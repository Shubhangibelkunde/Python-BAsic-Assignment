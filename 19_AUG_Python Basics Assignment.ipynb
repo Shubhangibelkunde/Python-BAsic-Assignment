{
 "cells": [
  {
   "cell_type": "code",
   "execution_count": null,
   "id": "123b5f45-6043-4321-90ff-a8dd79b99fec",
   "metadata": {},
   "outputs": [],
   "source": [
    "1. Declare two variables, `x` and `y`, and assign them integer values. Swap the\n",
    "values of these variables without using any temporary variable."
   ]
  },
  {
   "cell_type": "code",
   "execution_count": 1,
   "id": "1e9d451f-5f31-42d0-b9fc-f0ee43a9661f",
   "metadata": {},
   "outputs": [
    {
     "name": "stdout",
     "output_type": "stream",
     "text": [
      "after swapping : x =  35  ,y =  25\n"
     ]
    }
   ],
   "source": [
    "x = 25\n",
    "y = 35\n",
    "\n",
    "##swapping values without a temporary variable\n",
    "x = x + y\n",
    "y = x - y\n",
    "x = x - y\n",
    "\n",
    "print(\"after swapping : x = \", x, \" ,y = \", y)"
   ]
  },
  {
   "cell_type": "code",
   "execution_count": null,
   "id": "550d356b-79e4-4470-baa6-60ed7c9152b2",
   "metadata": {},
   "outputs": [],
   "source": [
    "2. Create a program that calculates the area of a rectangle. Take the length and\n",
    "width as inputs from the user and store them in variables. Calculate and\n",
    "display the area."
   ]
  },
  {
   "cell_type": "code",
   "execution_count": 5,
   "id": "54ca9ff5-9061-4b96-afc8-c69ee476cd9e",
   "metadata": {},
   "outputs": [
    {
     "name": "stdin",
     "output_type": "stream",
     "text": [
      "Enter the length of the rectangle :  4.5\n",
      "Enter the Width of the rectangle :  3.5\n"
     ]
    },
    {
     "name": "stdout",
     "output_type": "stream",
     "text": [
      "the area ot the rectangle is : 15.75\n"
     ]
    }
   ],
   "source": [
    "# input Length and Width from the user\n",
    "\n",
    "length = float(input(\"Enter the length of the rectangle : \"))\n",
    "Width = float(input(\"Enter the Width of the rectangle : \")) \n",
    "              \n",
    "# Calculate the area of rectangle\n",
    "Area = length * Width\n",
    "              \n",
    "#Display the result \n",
    "print(\"the area ot the rectangle is :\", Area)"
   ]
  },
  {
   "cell_type": "code",
   "execution_count": null,
   "id": "a9c4d0bc-cd89-4c30-b8fa-9d15fed37dd1",
   "metadata": {},
   "outputs": [],
   "source": [
    "3. Write a Python program that converts temperatures from Celsius to\n",
    "Fahrenheit. Take the temperature in Celsius as input, store it in a variable,\n",
    "convert it to Fahrenheit, and display the result."
   ]
  },
  {
   "cell_type": "code",
   "execution_count": 6,
   "id": "10eca16c-a51e-40bd-8b45-ca1db3eac8ba",
   "metadata": {},
   "outputs": [
    {
     "name": "stdin",
     "output_type": "stream",
     "text": [
      "Enter the temperature in Celsius:  35\n"
     ]
    },
    {
     "name": "stdout",
     "output_type": "stream",
     "text": [
      "Temperature in Fahrenheit: 95.0\n"
     ]
    }
   ],
   "source": [
    "# Input: Temperature in Celsius from the user\n",
    "celsius = float(input(\"Enter the temperature in Celsius: \"))\n",
    "\n",
    "# Convert Celsius to Fahrenheit\n",
    "fahrenheit = (celsius * 9/5) + 32\n",
    "\n",
    "# Display the result\n",
    "print(\"Temperature in Fahrenheit:\", fahrenheit)\n"
   ]
  },
  {
   "cell_type": "code",
   "execution_count": null,
   "id": "3c340b00-bdf6-432a-84ab-d33f736ac315",
   "metadata": {},
   "outputs": [],
   "source": [
    "4. Write a Python program that takes a string as input and prints the length of\n",
    "the string."
   ]
  },
  {
   "cell_type": "code",
   "execution_count": 1,
   "id": "97b7e66a-4ee6-4e9f-ba65-a75fa5fb30ba",
   "metadata": {},
   "outputs": [
    {
     "name": "stdin",
     "output_type": "stream",
     "text": [
      "enter the string :  Hello PW SKills\n"
     ]
    },
    {
     "name": "stdout",
     "output_type": "stream",
     "text": [
      "the length of the string is :  15\n"
     ]
    }
   ],
   "source": [
    "# input : string from the user\n",
    "\n",
    "input_str = input(\"enter the string : \" )\n",
    "\n",
    "# calculate the length of the string \n",
    "\n",
    "str_length = len(input_str)\n",
    "\n",
    "#Display the result \n",
    "\n",
    "print(\"the length of the string is : \", str_length)"
   ]
  },
  {
   "cell_type": "code",
   "execution_count": 7,
   "id": "ac055d10-b234-4ca9-b7e5-4ba3397c9167",
   "metadata": {},
   "outputs": [
    {
     "data": {
      "text/plain": [
       "19"
      ]
     },
     "execution_count": 7,
     "metadata": {},
     "output_type": "execute_result"
    }
   ],
   "source": [
    "string = \" Hello Python World\"\n",
    "len(string)"
   ]
  },
  {
   "cell_type": "code",
   "execution_count": null,
   "id": "d04dfbff-6422-44e0-aa37-e87e488f1f5e",
   "metadata": {},
   "outputs": [],
   "source": [
    "5. Create a program that takes a sentence from the user and counts the number\n",
    "of vowels (a, e, i, o, u) in the string."
   ]
  },
  {
   "cell_type": "code",
   "execution_count": 2,
   "id": "439236b9-d066-4d96-afad-85c3d4b52dcd",
   "metadata": {},
   "outputs": [
    {
     "name": "stdin",
     "output_type": "stream",
     "text": [
      "enter a sentence :  Hey there i am using pw skills lab\n"
     ]
    },
    {
     "name": "stdout",
     "output_type": "stream",
     "text": [
      "the numbers vowels in the sentence is : 9\n"
     ]
    }
   ],
   "source": [
    "# input\n",
    "sentence = input(\"enter a sentence : \" )\n",
    "\n",
    "vowel_count = 0\n",
    "\n",
    "#introducing vowels \n",
    "\n",
    "vowels = set(\"aeiouAEIOU\")\n",
    "\n",
    "#count the number of vowels in sentence \n",
    "\n",
    "for char in sentence:\n",
    "    if char in vowels :\n",
    "        vowel_count += 1\n",
    "        \n",
    "# Display the result \n",
    "\n",
    "print(\"the numbers vowels in the sentence is :\", vowel_count)"
   ]
  },
  {
   "cell_type": "code",
   "execution_count": null,
   "id": "c776fe72-6553-4c42-9a1f-80bfd477f331",
   "metadata": {},
   "outputs": [],
   "source": [
    "6.Given a string, reverse the order of characters using string slicing and print\n",
    "the reversed string."
   ]
  },
  {
   "cell_type": "code",
   "execution_count": 4,
   "id": "6087d15b-9c43-4a43-859b-a2d7f16d19ba",
   "metadata": {},
   "outputs": [
    {
     "data": {
      "text/plain": [
       "' dlrOW WP iiiiH'"
      ]
     },
     "execution_count": 4,
     "metadata": {},
     "output_type": "execute_result"
    }
   ],
   "source": [
    "string = \" Hiiii PW WOrld \"\n",
    "string[-1 : 0 : -1]"
   ]
  },
  {
   "cell_type": "code",
   "execution_count": 5,
   "id": "f6873733-678e-4717-bdd4-3b769e656c38",
   "metadata": {},
   "outputs": [
    {
     "name": "stdin",
     "output_type": "stream",
     "text": [
      "Enter a string:  Hiiii PW World\n"
     ]
    },
    {
     "name": "stdout",
     "output_type": "stream",
     "text": [
      "Reversed string: dlroW WP iiiiH\n"
     ]
    }
   ],
   "source": [
    "# Input: String from the user\n",
    "input_string = input(\"Enter a string: \")\n",
    "\n",
    "# Reverse the string using string slicing\n",
    "reversed_string = input_string[::-1]\n",
    "\n",
    "# Display the reversed string\n",
    "print(\"Reversed string:\", reversed_string)\n"
   ]
  },
  {
   "cell_type": "code",
   "execution_count": null,
   "id": "eac32ef0-4886-45ae-86cb-c0ab2bb8fbc3",
   "metadata": {},
   "outputs": [],
   "source": [
    "7. Write a program that takes a string as input and checks if it is a palindrome\n",
    "(reads the same forwards and backwards)."
   ]
  },
  {
   "cell_type": "code",
   "execution_count": 7,
   "id": "eec4eecb-833d-4c5e-befb-aac4832a5e7f",
   "metadata": {},
   "outputs": [
    {
     "name": "stdin",
     "output_type": "stream",
     "text": [
      "Enter a string :  wow\n"
     ]
    },
    {
     "name": "stdout",
     "output_type": "stream",
     "text": [
      "The input string is a palidrome\n"
     ]
    }
   ],
   "source": [
    "#Input : string from the user\n",
    "string = input(\"Enter a string : \")\n",
    "\n",
    "#check if it is palidrome\n",
    "palidrome = string == string[ : : -1]\n",
    "\n",
    "# Display the result \n",
    "if palidrome :\n",
    "    print(\"The input string is a palidrome\")\n",
    "else :\n",
    "    print(\"The input string is not a palidrome\")\n",
    "    \n"
   ]
  },
  {
   "cell_type": "code",
   "execution_count": null,
   "id": "ab7c28c6-9826-412e-9dae-381693dfc593",
   "metadata": {},
   "outputs": [],
   "source": [
    "8. Create a program that takes a string as input and removes all the spaces from\n",
    "it. Print the modified string without spaces."
   ]
  },
  {
   "cell_type": "code",
   "execution_count": 9,
   "id": "bfe72aa6-b2d8-4112-93b1-be5446784c11",
   "metadata": {},
   "outputs": [
    {
     "name": "stdin",
     "output_type": "stream",
     "text": [
      " Enter a string :  Hii I Am Shubhangi\n"
     ]
    },
    {
     "name": "stdout",
     "output_type": "stream",
     "text": [
      " string with removed spaces :  HiiIAmShubhangi\n"
     ]
    }
   ],
   "source": [
    "# Input : string from the user\n",
    "\n",
    "string = input(\" Enter a string : \")\n",
    "\n",
    "#remove the spaces in bet string\n",
    "\n",
    "remove = string.replace(\" \",\"\")\n",
    "\n",
    "# Display the result \n",
    "\n",
    "print(\" string with removed spaces : \", remove)"
   ]
  },
  {
   "cell_type": "code",
   "execution_count": null,
   "id": "3f87cfa0-766c-47f5-911e-7c540968754e",
   "metadata": {},
   "outputs": [],
   "source": []
  }
 ],
 "metadata": {
  "kernelspec": {
   "display_name": "Python 3 (ipykernel)",
   "language": "python",
   "name": "python3"
  },
  "language_info": {
   "codemirror_mode": {
    "name": "ipython",
    "version": 3
   },
   "file_extension": ".py",
   "mimetype": "text/x-python",
   "name": "python",
   "nbconvert_exporter": "python",
   "pygments_lexer": "ipython3",
   "version": "3.10.8"
  }
 },
 "nbformat": 4,
 "nbformat_minor": 5
}
